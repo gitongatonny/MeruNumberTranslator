{
 "cells": [
  {
   "cell_type": "code",
   "execution_count": 6,
   "metadata": {},
   "outputs": [],
   "source": [
    "import csv\n",
    "import re"
   ]
  },
  {
   "cell_type": "code",
   "execution_count": 7,
   "metadata": {},
   "outputs": [],
   "source": [
    "# Load the dataset from CSV\n",
    "def load_dataset(filename):\n",
    "    dataset = {}\n",
    "    with open(filename, 'r') as file:\n",
    "        reader = csv.reader(file)\n",
    "        next(reader)  # Skip header row\n",
    "        for row in reader:\n",
    "            number = int(row[0])\n",
    "            meru_number = row[1]\n",
    "            grammar = row[2]\n",
    "            morphemes = re.findall(r'\\b\\w+\\b', meru_number)\n",
    "            dataset[number] = (meru_number, grammar, morphemes)\n",
    "            dataset[meru_number] = (number, grammar)\n",
    "    return dataset\n",
    "\n",
    "dataset = load_dataset('MeruNumbers.csv')"
   ]
  },
  {
   "cell_type": "code",
   "execution_count": 8,
   "metadata": {},
   "outputs": [],
   "source": [
    "# Analyze a MeruNumber\n",
    "def analyze_meru_number(input_number, dataset):\n",
    "    if input_number in dataset:\n",
    "        # Number is in the dataset\n",
    "        return dataset[input_number]\n",
    "\n",
    "    # Check if the input MeruNumber is a number word from 1 to 10\n",
    "    if input_number in dataset.values():\n",
    "        for number, (meru_number, grammar) in dataset.items():\n",
    "            if input_number == meru_number:\n",
    "                return number, grammar\n",
    "\n",
    "    # Check if the input MeruNumber has \"na\" keyword\n",
    "    if 'na' in input_number:\n",
    "        parts = input_number.split('na')\n",
    "        if len(parts) == 2:\n",
    "            hundreds = dataset[parts[0].strip()][0]\n",
    "            tens = dataset[parts[1].strip()][0]\n",
    "            corresponding_number = hundreds + tens\n",
    "            return corresponding_number, ''\n",
    "\n",
    "    # No \"na\" keyword, analyze MeruNumber\n",
    "    parts = input_number.split()\n",
    "    number = 0\n",
    "    grammar = ''\n",
    "    for part in parts:\n",
    "        part = part.strip()\n",
    "        if part in dataset:\n",
    "            part_number, part_grammar = dataset[part]\n",
    "            number += part_number\n",
    "            grammar += part_grammar + ' '\n",
    "    grammar = grammar.strip()\n",
    "    return number, grammar"
   ]
  },
  {
   "cell_type": "code",
   "execution_count": 9,
   "metadata": {},
   "outputs": [],
   "source": [
    "# Convert a number to its MeruNumber representation\n",
    "def convert_to_meru_number(input_number, dataset):\n",
    "    if input_number in dataset:\n",
    "        # Number is in the dataset\n",
    "        return dataset[input_number][0]\n",
    "\n",
    "    if input_number >= 200:\n",
    "        hundreds = input_number // 100\n",
    "        remainder = input_number % 100\n",
    "        if remainder == 0:\n",
    "            meru_number = f\"{dataset[hundreds][0]} {dataset[100][0]}\"\n",
    "        else:\n",
    "            tens = remainder // 10\n",
    "            ones = input_number % 10\n",
    "            if tens == 0:\n",
    "                meru_number = f\"{dataset[hundreds][0]} {dataset[100][0]} {dataset[ones][0]}\"\n",
    "            else:\n",
    "                meru_number = f\"{dataset[hundreds][0]} {dataset[100][0]} {dataset[tens * 10][0]} na {dataset[ones][0]}\"\n",
    "        return meru_number\n",
    "\n",
    "    if input_number < 100:\n",
    "        # Numbers from 1 to 99\n",
    "        tens = input_number // 10\n",
    "        ones = input_number % 10\n",
    "        meru_number = f\"{dataset[tens * 10][0]} {dataset[ones][0]}\"\n",
    "        return meru_number\n",
    "\n",
    "    if 100 <= input_number < 200:\n",
    "        tens = (input_number % 100) // 10\n",
    "        ones = input_number % 10\n",
    "        if tens == 0:\n",
    "            meru_number = f\"{dataset[100][0]} {dataset[ones][0]}\"\n",
    "        else:\n",
    "            meru_number = f\"{dataset[100][0]} {dataset[tens * 10][0]} na {dataset[ones][0]}\"\n",
    "        return meru_number"
   ]
  },
  {
   "cell_type": "code",
   "execution_count": 10,
   "metadata": {},
   "outputs": [
    {
     "name": "stdout",
     "output_type": "stream",
     "text": [
      "Welcome to the Meru Number Converter! /n\n",
      "Choose an option:\n",
      "1. Convert a number to MeruNumber\n",
      "2. Convert a MeruNumber to number\n",
      "3. Quit\n",
      "\n",
      "\n"
     ]
    },
    {
     "ename": "NameError",
     "evalue": "name 'grammar' is not defined",
     "output_type": "error",
     "traceback": [
      "\u001b[1;31m---------------------------------------------------------------------------\u001b[0m",
      "\u001b[1;31mNameError\u001b[0m                                 Traceback (most recent call last)",
      "Cell \u001b[1;32mIn[10], line 16\u001b[0m\n\u001b[0;32m     14\u001b[0m     input_number \u001b[39m=\u001b[39m \u001b[39mint\u001b[39m(\u001b[39minput\u001b[39m(\u001b[39m\"\u001b[39m\u001b[39mEnter a number: \u001b[39m\u001b[39m\"\u001b[39m))\n\u001b[0;32m     15\u001b[0m     meru_number \u001b[39m=\u001b[39m convert_to_meru_number(input_number, dataset)\n\u001b[1;32m---> 16\u001b[0m     \u001b[39mprint\u001b[39m(\u001b[39mf\u001b[39m\u001b[39m\"\u001b[39m\u001b[39mThe MeruNumber for \u001b[39m\u001b[39m{\u001b[39;00minput_number\u001b[39m}\u001b[39;00m\u001b[39m is: \u001b[39m\u001b[39m{\u001b[39;00mmeru_number\u001b[39m}\u001b[39;00m\u001b[39m (\u001b[39m\u001b[39m{\u001b[39;00mgrammar\u001b[39m}\u001b[39;00m\u001b[39m)\u001b[39m\u001b[39m\"\u001b[39m)\n\u001b[0;32m     17\u001b[0m     \u001b[39mprint\u001b[39m(\u001b[39m\"\u001b[39m\u001b[39m\\n\u001b[39;00m\u001b[39m\"\u001b[39m)\n\u001b[0;32m     19\u001b[0m \u001b[39melif\u001b[39;00m choice \u001b[39m==\u001b[39m \u001b[39m'\u001b[39m\u001b[39m2\u001b[39m\u001b[39m'\u001b[39m:\n",
      "\u001b[1;31mNameError\u001b[0m: name 'grammar' is not defined"
     ]
    }
   ],
   "source": [
    "# Run the program\n",
    "while True:\n",
    "    print(\"Welcome to the Meru Number Converter!\")\n",
    "    print(\"\\n\")\n",
    "    print(\"Choose an option:\")\n",
    "    print(\"1. Convert a number to MeruNumber\")\n",
    "    print(\"2. Convert a MeruNumber to number\")\n",
    "    print(\"3. Quit\")\n",
    "\n",
    "    choice = input(\"Enter your choice: \")\n",
    "    print(\"\\n\")  \n",
    "\n",
    "\n",
    "    if choice == '1':\n",
    "        input_number = int(input(\"Enter a number: \"))\n",
    "        meru_number = convert_to_meru_number(input_number, dataset)\n",
    "        print(f\"The MeruNumber for {input_number} is: {meru_number}\")\n",
    "        print(\"\\n\")\n",
    "\n",
    "    elif choice == '2':\n",
    "        input_meru_number = input(\"Enter a MeruNumber: \")\n",
    "        number, grammar = analyze_meru_number(input_meru_number, dataset)\n",
    "        print(f\"The NumberEquivalent for {input_meru_number} is: {number} ({grammar})\")\n",
    "        print(\"\\n\")\n",
    "\n",
    "    elif choice == '3':\n",
    "        print(\"Thank you for using Meru Number Translator!💯\")\n",
    "        print(\"Exiting...\")\n",
    "        break\n",
    "\n",
    "    else:\n",
    "        print(\"Invalid choice. Please try again.\")\n",
    "        print(\"\\n\")"
   ]
  }
 ],
 "metadata": {
  "kernelspec": {
   "display_name": "Python 3",
   "language": "python",
   "name": "python3"
  },
  "language_info": {
   "codemirror_mode": {
    "name": "ipython",
    "version": 3
   },
   "file_extension": ".py",
   "mimetype": "text/x-python",
   "name": "python",
   "nbconvert_exporter": "python",
   "pygments_lexer": "ipython3",
   "version": "3.11.4"
  },
  "orig_nbformat": 4
 },
 "nbformat": 4,
 "nbformat_minor": 2
}
