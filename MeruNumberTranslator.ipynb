{
 "cells": [
  {
   "cell_type": "code",
   "execution_count": 17,
   "metadata": {},
   "outputs": [],
   "source": [
    "import csv\n",
    "from sklearn.feature_extraction.text import CountVectorizer\n",
    "from sklearn.linear_model import LogisticRegression\n",
    "from sklearn.metrics import accuracy_score\n",
    "from sklearn.model_selection import train_test_split"
   ]
  },
  {
   "cell_type": "code",
   "execution_count": 18,
   "metadata": {},
   "outputs": [],
   "source": [
    "class MeruNumberTranslator:\n",
    "    def __init__(self):\n",
    "        self.number_mapping = {}\n",
    "        self.vectorizer = CountVectorizer()\n",
    "        self.model = LogisticRegression()\n",
    "\n",
    "    def load_dataset(self, dataset_path):\n",
    "        with open(dataset_path, 'r') as file:\n",
    "            reader = csv.reader(file)\n",
    "            for row in reader:\n",
    "                NumberEquivalent, MeruNumber, Grammar = row\n",
    "                self.number_mapping[MeruNumber] = (NumberEquivalent, Grammar)\n",
    "\n",
    "    def train(self, dataset_path):\n",
    "        self.load_dataset(dataset_path)\n",
    "        # Extract features and labels from the dataset\n",
    "        MeruNumbers = list(self.number_mapping.keys())\n",
    "        NumberEquivalents = [entry[0] for entry in self.number_mapping.values()]\n",
    "\n",
    "        # Convert text inputs to numerical features\n",
    "        features = self.vectorizer.fit_transform(MeruNumbers)\n",
    "\n",
    "        # Split the dataset into training and testing sets\n",
    "        X_train, X_test, y_train, y_test = train_test_split(features, NumberEquivalents, test_size=0.2, random_state=42)\n",
    "\n",
    "        # Train the model\n",
    "        self.model.fit(X_train, y_train)\n",
    "\n",
    "        # Evaluate accuracy on the testing set\n",
    "        y_pred = self.model.predict(X_test)\n",
    "        accuracy = accuracy_score(y_test, y_pred)\n",
    "        print(f\"Accuracy: {accuracy:.2f}\")\n",
    "\n",
    "    def translate_to_equivalent(self, MeruNumber):\n",
    "        features = self.vectorizer.transform([MeruNumber])\n",
    "        NumberEquivalent, Grammar = self.model.predict(features)[0], \"\"\n",
    "        if MeruNumber in self.number_mapping:\n",
    "            Grammar = self.number_mapping[MeruNumber][1]\n",
    "        return NumberEquivalent, Grammar\n",
    "\n",
    "    def translate_to_meru(self, number):\n",
    "        for MeruNumber, (NumberEquivalent, Grammar) in self.number_mapping.items():\n",
    "            if NumberEquivalent == str(number):\n",
    "                return MeruNumber, Grammar\n",
    "\n",
    "        return 'Unknown', 'Unknown'\n",
    "\n",
    "\n",
    "translator = MeruNumberTranslator()\n"
   ]
  },
  {
   "cell_type": "code",
   "execution_count": 19,
   "metadata": {},
   "outputs": [
    {
     "name": "stdout",
     "output_type": "stream",
     "text": [
      "Accuracy: 0.00\n"
     ]
    }
   ],
   "source": [
    "# Training of the model.\n",
    "translator.train('MeruNumbers.csv')"
   ]
  },
  {
   "cell_type": "code",
   "execution_count": 20,
   "metadata": {},
   "outputs": [
    {
     "name": "stdout",
     "output_type": "stream",
     "text": [
      "Please select an option:\n",
      "1. Translate a number to its Meru equivalent\n",
      "2. Translate a Meru number to its number value equivalent\n",
      "Enter 'q' to quit. \n",
      "\n"
     ]
    },
    {
     "name": "stdout",
     "output_type": "stream",
     "text": [
      "The Meru equivalent of 1 is: Emwe\n",
      "Morphological Grammar:  e-mwe \n",
      "\n",
      "Please select an option:\n",
      "1. Translate a number to its Meru equivalent\n",
      "2. Translate a Meru number to its number value equivalent\n",
      "Enter 'q' to quit. \n",
      "\n"
     ]
    }
   ],
   "source": [
    "while True:\n",
    "    print(\"Please select an option:\")\n",
    "    print(\"1. Translate a number to its Meru equivalent\")\n",
    "    print(\"2. Translate a Meru number to its number value equivalent\")\n",
    "    print(\"Enter 'q' to quit. \\n\")\n",
    "\n",
    "    choice = input(\"Your choice: \")\n",
    "\n",
    "    if choice == '1':\n",
    "        number_input = int(input(\"Enter a number: \"))\n",
    "        MeruNumberEquivalent, Grammar = translator.translate_to_meru(number_input)\n",
    "        print(f\"The Meru equivalent of {number_input} is: {MeruNumberEquivalent}\")\n",
    "        print(f\"Morphological Grammar: {Grammar} \\n\")\n",
    "    elif choice == '2':\n",
    "        MeruInput = input(\"Enter a Meru number: \")\n",
    "        NumberEquivalent, Grammar = translator.translate_to_equivalent(MeruInput)\n",
    "        print(f\"The equivalent of {MeruInput} is: {NumberEquivalent}\")\n",
    "        print(f\"Morphological Grammar: {Grammar} \\n\")\n",
    "    elif choice.lower() == 'q':\n",
    "        break\n",
    "    else:\n",
    "        print(\"Invalid choice. Please try again.\")"
   ]
  }
 ],
 "metadata": {
  "kernelspec": {
   "display_name": "Python 3",
   "language": "python",
   "name": "python3"
  },
  "language_info": {
   "codemirror_mode": {
    "name": "ipython",
    "version": 3
   },
   "file_extension": ".py",
   "mimetype": "text/x-python",
   "name": "python",
   "nbconvert_exporter": "python",
   "pygments_lexer": "ipython3",
   "version": "3.11.4"
  },
  "orig_nbformat": 4
 },
 "nbformat": 4,
 "nbformat_minor": 2
}
