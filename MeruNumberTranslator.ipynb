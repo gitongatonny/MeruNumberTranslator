{
 "cells": [
  {
   "cell_type": "code",
   "execution_count": 5,
   "metadata": {},
   "outputs": [],
   "source": [
    "import csv\n",
    "from sklearn.feature_extraction.text import CountVectorizer\n",
    "from sklearn.linear_model import LogisticRegression\n",
    "from sklearn.metrics import accuracy_score\n",
    "from sklearn.model_selection import train_test_split"
   ]
  },
  {
   "cell_type": "code",
   "execution_count": null,
   "metadata": {},
   "outputs": [],
   "source": [
    "class MeruNumberTranslator:\n",
    "    def __init__(self):\n",
    "        self.number_mapping = {}\n",
    "        self.vectorizer = CountVectorizer()\n",
    "        self.model = LogisticRegression()\n",
    "\n",
    "    def load_dataset(self, dataset_path):\n",
    "        with open(dataset_path, 'r') as file:\n",
    "            reader = csv.reader(file)\n",
    "            for row in reader:\n",
    "                meru_number, equivalent, grammar = row\n",
    "                self.number_mapping[meru_number] = (equivalent, grammar)\n",
    "\n",
    "    def train(self, dataset_path):\n",
    "        self.load_dataset(dataset_path)\n",
    "        # Extract features and labels from the dataset\n",
    "        meru_numbers = list(self.number_mapping.keys())\n",
    "        number_equivalents = [entry[0] for entry in self.number_mapping.values()]\n",
    "\n",
    "        # Convert text inputs to numerical features\n",
    "        features = self.vectorizer.fit_transform(meru_numbers)\n",
    "\n",
    "        # Split the dataset into training and testing sets\n",
    "        X_train, X_test, y_train, y_test = train_test_split(features, number_equivalents, test_size=0.2, random_state=42)\n",
    "\n",
    "        # Train the model\n",
    "        self.model.fit(X_train, y_train)\n",
    "\n",
    "        # Evaluate accuracy on the testing set\n",
    "        y_pred = self.model.predict(X_test)\n",
    "        accuracy = accuracy_score(y_test, y_pred)\n",
    "        print(f\"Accuracy: {accuracy:.2f}\")\n",
    "\n",
    "    def translate_to_equivalent(self, meru_number):\n",
    "        features = self.vectorizer.transform([meru_number])\n",
    "        equivalent, grammar = self.model.predict(features)[0], \"\"\n",
    "        if meru_number in self.number_mapping:\n",
    "            grammar = self.number_mapping[meru_number][1]\n",
    "        return equivalent, grammar\n",
    "\n",
    "    def translate_to_meru(self, number):\n",
    "        for meru_number, (equivalent, grammar) in self.number_mapping.items():\n",
    "            if equivalent == str(number):\n",
    "                return meru_number, grammar\n",
    "\n",
    "            return 'Unknown', 'Unknown'\n",
    "\n",
    "\n",
    "translator = MeruNumberTranslator()\n"
   ]
  },
  {
   "cell_type": "code",
   "execution_count": null,
   "metadata": {},
   "outputs": [],
   "source": []
  }
 ],
 "metadata": {
  "kernelspec": {
   "display_name": "Python 3",
   "language": "python",
   "name": "python3"
  },
  "language_info": {
   "codemirror_mode": {
    "name": "ipython",
    "version": 3
   },
   "file_extension": ".py",
   "mimetype": "text/x-python",
   "name": "python",
   "nbconvert_exporter": "python",
   "pygments_lexer": "ipython3",
   "version": "3.11.4"
  },
  "orig_nbformat": 4
 },
 "nbformat": 4,
 "nbformat_minor": 2
}
