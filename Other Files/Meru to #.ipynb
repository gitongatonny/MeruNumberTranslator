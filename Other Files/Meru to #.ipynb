{
  "cells": [
    {
      "cell_type": "code",
      "execution_count": 1,
      "metadata": {
        "id": "u5oLx1CuhlO8"
      },
      "outputs": [],
      "source": [
        "import csv\n",
        "\n",
        "def load_dataset(filename):\n",
        "    dataset = {}\n",
        "    with open(filename, 'r') as file:\n",
        "        reader = csv.reader(file)\n",
        "        next(reader)  # Skip header row\n",
        "        for row in reader:\n",
        "            number = int(row[0])\n",
        "            meru_number = row[1]\n",
        "            grammar = row[2]\n",
        "            dataset[meru_number] = (number, grammar)\n",
        "    return dataset\n",
        "\n",
        "# Load the dataset from CSV\n",
        "dataset = load_dataset('MeruNumbers.csv')\n",
        "\n"
      ]
    },
    {
      "cell_type": "code",
      "execution_count": 2,
      "metadata": {
        "id": "uaw6Hj0Ihzr_"
      },
      "outputs": [],
      "source": [
        "def analyze_meru_number(input_number, dataset):\n",
        "    if input_number in dataset:\n",
        "        # Number is in the dataset\n",
        "        return dataset[input_number]\n",
        "\n",
        "    # Check if the input MeruNumber is a number word from 1 to 10\n",
        "    if input_number in dataset.values():\n",
        "        for number, (meru_number, grammar) in dataset.items():\n",
        "            if input_number == meru_number:\n",
        "                return number, grammar\n",
        "\n",
        "    # Check if the input MeruNumber has \"na\" keyword\n",
        "    if 'na' in input_number:\n",
        "        parts = input_number.split('na')\n",
        "        if len(parts) == 2:\n",
        "            hundreds = dataset[parts[0].strip()][0]\n",
        "            tens = dataset[parts[1].strip()][0]\n",
        "            corresponding_number = hundreds + tens\n",
        "            return corresponding_number, ''\n",
        "\n",
        "    # No \"na\" keyword, analyze MeruNumber\n",
        "    parts = input_number.split()\n",
        "    number = 0\n",
        "    grammar = ''\n",
        "    for part in parts:\n",
        "        part = part.strip()\n",
        "        if part in dataset:\n",
        "            part_number, part_grammar = dataset[part]\n",
        "            number += part_number\n",
        "            grammar += part_grammar + ' '\n",
        "    grammar = grammar.strip()\n",
        "    return number, grammar\n"
      ]
    },
    {
      "cell_type": "code",
      "execution_count": 3,
      "metadata": {
        "colab": {
          "base_uri": "https://localhost:8080/"
        },
        "id": "lr6EUyM7h4Zx",
        "outputId": "7b8bf36e-e41a-4950-f482-11b717b65f5a"
      },
      "outputs": [
        {
          "name": "stdout",
          "output_type": "stream",
          "text": [
            "The NumberEquivalent for igana is: 100 (i-gana)\n"
          ]
        }
      ],
      "source": [
        "def run_meru_number_analyzer():\n",
        "    # Get user input\n",
        "    input_meru_number = input(\"Enter a MeruNumber: \")\n",
        "\n",
        "    # Analyze the MeruNumber\n",
        "    number, grammar = analyze_meru_number(input_meru_number, dataset)\n",
        "    print(f\"The NumberEquivalent for {input_meru_number} is: {number} ({grammar})\")\n",
        "\n",
        "run_meru_number_analyzer()"
      ]
    },
    {
      "cell_type": "code",
      "execution_count": 4,
      "metadata": {
        "colab": {
          "base_uri": "https://localhost:8080/"
        },
        "id": "HSRCiJUYh6uy",
        "outputId": "acd60850-f366-47ed-a142-61ddfdbc588a"
      },
      "outputs": [
        {
          "name": "stdout",
          "output_type": "stream",
          "text": [
            "The NumberEquivalent for imwe is: 1 (i-mwe)\n"
          ]
        }
      ],
      "source": [
        "run_meru_number_analyzer()"
      ]
    },
    {
      "cell_type": "code",
      "execution_count": null,
      "metadata": {
        "id": "usjk1CRFkT1k"
      },
      "outputs": [],
      "source": []
    }
  ],
  "metadata": {
    "colab": {
      "provenance": []
    },
    "kernelspec": {
      "display_name": "Python 3",
      "name": "python3"
    },
    "language_info": {
      "codemirror_mode": {
        "name": "ipython",
        "version": 3
      },
      "file_extension": ".py",
      "mimetype": "text/x-python",
      "name": "python",
      "nbconvert_exporter": "python",
      "pygments_lexer": "ipython3",
      "version": "3.11.4"
    }
  },
  "nbformat": 4,
  "nbformat_minor": 0
}
