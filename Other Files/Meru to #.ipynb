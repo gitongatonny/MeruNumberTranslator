{
  "cells": [
    {
      "cell_type": "code",
      "execution_count": 3,
      "metadata": {
        "id": "u5oLx1CuhlO8"
      },
      "outputs": [
        {
          "ename": "FileNotFoundError",
          "evalue": "[Errno 2] No such file or directory: 'MeruNumbers.csv'",
          "output_type": "error",
          "traceback": [
            "\u001b[1;31m---------------------------------------------------------------------------\u001b[0m",
            "\u001b[1;31mFileNotFoundError\u001b[0m                         Traceback (most recent call last)",
            "Cell \u001b[1;32mIn[3], line 16\u001b[0m\n\u001b[0;32m     13\u001b[0m     \u001b[39mreturn\u001b[39;00m dataset\n\u001b[0;32m     15\u001b[0m \u001b[39m# Load the dataset from CSV\u001b[39;00m\n\u001b[1;32m---> 16\u001b[0m dataset \u001b[39m=\u001b[39m load_dataset(\u001b[39m'\u001b[39;49m\u001b[39mMeruNumbers.csv\u001b[39;49m\u001b[39m'\u001b[39;49m)\n",
            "Cell \u001b[1;32mIn[3], line 5\u001b[0m, in \u001b[0;36mload_dataset\u001b[1;34m(filename)\u001b[0m\n\u001b[0;32m      3\u001b[0m \u001b[39mdef\u001b[39;00m \u001b[39mload_dataset\u001b[39m(filename):\n\u001b[0;32m      4\u001b[0m     dataset \u001b[39m=\u001b[39m {}\n\u001b[1;32m----> 5\u001b[0m     \u001b[39mwith\u001b[39;00m \u001b[39mopen\u001b[39;49m(filename, \u001b[39m'\u001b[39;49m\u001b[39mr\u001b[39;49m\u001b[39m'\u001b[39;49m) \u001b[39mas\u001b[39;00m file:\n\u001b[0;32m      6\u001b[0m         reader \u001b[39m=\u001b[39m csv\u001b[39m.\u001b[39mreader(file)\n\u001b[0;32m      7\u001b[0m         \u001b[39mnext\u001b[39m(reader)  \u001b[39m# Skip header row\u001b[39;00m\n",
            "File \u001b[1;32m~\\AppData\\Roaming\\Python\\Python311\\site-packages\\IPython\\core\\interactiveshell.py:284\u001b[0m, in \u001b[0;36m_modified_open\u001b[1;34m(file, *args, **kwargs)\u001b[0m\n\u001b[0;32m    277\u001b[0m \u001b[39mif\u001b[39;00m file \u001b[39min\u001b[39;00m {\u001b[39m0\u001b[39m, \u001b[39m1\u001b[39m, \u001b[39m2\u001b[39m}:\n\u001b[0;32m    278\u001b[0m     \u001b[39mraise\u001b[39;00m \u001b[39mValueError\u001b[39;00m(\n\u001b[0;32m    279\u001b[0m         \u001b[39mf\u001b[39m\u001b[39m\"\u001b[39m\u001b[39mIPython won\u001b[39m\u001b[39m'\u001b[39m\u001b[39mt let you open fd=\u001b[39m\u001b[39m{\u001b[39;00mfile\u001b[39m}\u001b[39;00m\u001b[39m by default \u001b[39m\u001b[39m\"\u001b[39m\n\u001b[0;32m    280\u001b[0m         \u001b[39m\"\u001b[39m\u001b[39mas it is likely to crash IPython. If you know what you are doing, \u001b[39m\u001b[39m\"\u001b[39m\n\u001b[0;32m    281\u001b[0m         \u001b[39m\"\u001b[39m\u001b[39myou can use builtins\u001b[39m\u001b[39m'\u001b[39m\u001b[39m open.\u001b[39m\u001b[39m\"\u001b[39m\n\u001b[0;32m    282\u001b[0m     )\n\u001b[1;32m--> 284\u001b[0m \u001b[39mreturn\u001b[39;00m io_open(file, \u001b[39m*\u001b[39;49margs, \u001b[39m*\u001b[39;49m\u001b[39m*\u001b[39;49mkwargs)\n",
            "\u001b[1;31mFileNotFoundError\u001b[0m: [Errno 2] No such file or directory: 'MeruNumbers.csv'"
          ]
        }
      ],
      "source": [
        "import csv\n",
        "\n",
        "def load_dataset(filename):\n",
        "    dataset = {}\n",
        "    with open(filename, 'r') as file:\n",
        "        reader = csv.reader(file)\n",
        "        next(reader)  # Skip header row\n",
        "        for row in reader:\n",
        "            number = int(row[0])\n",
        "            meru_number = row[1]\n",
        "            grammar = row[2]\n",
        "            dataset[meru_number] = (number, grammar)\n",
        "    return dataset\n",
        "\n",
        "# Load the dataset from CSV\n",
        "dataset = load_dataset('MeruNumbers.csv')\n",
        "\n"
      ]
    },
    {
      "cell_type": "code",
      "execution_count": null,
      "metadata": {
        "id": "uaw6Hj0Ihzr_"
      },
      "outputs": [],
      "source": [
        "def analyze_meru_number(input_number, dataset):\n",
        "    if input_number in dataset:\n",
        "        # Number is in the dataset\n",
        "        return dataset[input_number]\n",
        "\n",
        "    # Check if the input MeruNumber is a number word from 1 to 10\n",
        "    if input_number in dataset.values():\n",
        "        for number, (meru_number, grammar) in dataset.items():\n",
        "            if input_number == meru_number:\n",
        "                return number, grammar\n",
        "\n",
        "    # Check if the input MeruNumber has \"na\" keyword\n",
        "    if 'na' in input_number:\n",
        "        parts = input_number.split('na')\n",
        "        if len(parts) == 2:\n",
        "            hundreds = dataset[parts[0].strip()][0]\n",
        "            tens = dataset[parts[1].strip()][0]\n",
        "            corresponding_number = hundreds + tens\n",
        "            return corresponding_number, ''\n",
        "\n",
        "    # No \"na\" keyword, analyze MeruNumber\n",
        "    parts = input_number.split()\n",
        "    number = 0\n",
        "    grammar = ''\n",
        "    for part in parts:\n",
        "        part = part.strip()\n",
        "        if part in dataset:\n",
        "            part_number, part_grammar = dataset[part]\n",
        "            number += part_number\n",
        "            grammar += part_grammar + ' '\n",
        "    grammar = grammar.strip()\n",
        "    return number, grammar\n"
      ]
    },
    {
      "cell_type": "code",
      "execution_count": null,
      "metadata": {
        "colab": {
          "base_uri": "https://localhost:8080/"
        },
        "id": "lr6EUyM7h4Zx",
        "outputId": "7b8bf36e-e41a-4950-f482-11b717b65f5a"
      },
      "outputs": [
        {
          "name": "stdout",
          "output_type": "stream",
          "text": [
            "The NumberEquivalent for igana na mirongo iri is: 100 (i-gana)\n"
          ]
        }
      ],
      "source": [
        "def run_meru_number_analyzer():\n",
        "    # Get user input\n",
        "    input_meru_number = input(\"Enter a MeruNumber: \")\n",
        "\n",
        "    # Analyze the MeruNumber\n",
        "    number, grammar = analyze_meru_number(input_meru_number, dataset)\n",
        "    print(f\"The NumberEquivalent for {input_meru_number} is: {number} ({grammar})\")\n",
        "\n",
        "run_meru_number_analyzer()"
      ]
    },
    {
      "cell_type": "code",
      "execution_count": null,
      "metadata": {
        "colab": {
          "base_uri": "https://localhost:8080/"
        },
        "id": "HSRCiJUYh6uy",
        "outputId": "acd60850-f366-47ed-a142-61ddfdbc588a"
      },
      "outputs": [
        {
          "ename": "KeyError",
          "evalue": "'iga'",
          "output_type": "error",
          "traceback": [
            "\u001b[1;31m---------------------------------------------------------------------------\u001b[0m",
            "\u001b[1;31mKeyError\u001b[0m                                  Traceback (most recent call last)",
            "Cell \u001b[1;32mIn[4], line 1\u001b[0m\n\u001b[1;32m----> 1\u001b[0m run_meru_number_analyzer()\n",
            "Cell \u001b[1;32mIn[3], line 6\u001b[0m, in \u001b[0;36mrun_meru_number_analyzer\u001b[1;34m()\u001b[0m\n\u001b[0;32m      3\u001b[0m input_meru_number \u001b[39m=\u001b[39m \u001b[39minput\u001b[39m(\u001b[39m\"\u001b[39m\u001b[39mEnter a MeruNumber: \u001b[39m\u001b[39m\"\u001b[39m)\n\u001b[0;32m      5\u001b[0m \u001b[39m# Analyze the MeruNumber\u001b[39;00m\n\u001b[1;32m----> 6\u001b[0m number, grammar \u001b[39m=\u001b[39m analyze_meru_number(input_meru_number, dataset)\n\u001b[0;32m      7\u001b[0m \u001b[39mprint\u001b[39m(\u001b[39mf\u001b[39m\u001b[39m\"\u001b[39m\u001b[39mThe NumberEquivalent for \u001b[39m\u001b[39m{\u001b[39;00minput_meru_number\u001b[39m}\u001b[39;00m\u001b[39m is: \u001b[39m\u001b[39m{\u001b[39;00mnumber\u001b[39m}\u001b[39;00m\u001b[39m (\u001b[39m\u001b[39m{\u001b[39;00mgrammar\u001b[39m}\u001b[39;00m\u001b[39m)\u001b[39m\u001b[39m\"\u001b[39m)\n",
            "Cell \u001b[1;32mIn[2], line 16\u001b[0m, in \u001b[0;36manalyze_meru_number\u001b[1;34m(input_number, dataset)\u001b[0m\n\u001b[0;32m     14\u001b[0m parts \u001b[39m=\u001b[39m input_number\u001b[39m.\u001b[39msplit(\u001b[39m'\u001b[39m\u001b[39mna\u001b[39m\u001b[39m'\u001b[39m)\n\u001b[0;32m     15\u001b[0m \u001b[39mif\u001b[39;00m \u001b[39mlen\u001b[39m(parts) \u001b[39m==\u001b[39m \u001b[39m2\u001b[39m:\n\u001b[1;32m---> 16\u001b[0m     hundreds \u001b[39m=\u001b[39m dataset[parts[\u001b[39m0\u001b[39;49m]\u001b[39m.\u001b[39;49mstrip()][\u001b[39m0\u001b[39m]\n\u001b[0;32m     17\u001b[0m     tens \u001b[39m=\u001b[39m dataset[parts[\u001b[39m1\u001b[39m]\u001b[39m.\u001b[39mstrip()][\u001b[39m0\u001b[39m]\n\u001b[0;32m     18\u001b[0m     corresponding_number \u001b[39m=\u001b[39m hundreds \u001b[39m+\u001b[39m tens\n",
            "\u001b[1;31mKeyError\u001b[0m: 'iga'"
          ]
        }
      ],
      "source": [
        "run_meru_number_analyzer()"
      ]
    },
    {
      "cell_type": "code",
      "execution_count": null,
      "metadata": {
        "id": "usjk1CRFkT1k"
      },
      "outputs": [],
      "source": []
    }
  ],
  "metadata": {
    "colab": {
      "provenance": []
    },
    "kernelspec": {
      "display_name": "Python 3",
      "name": "python3"
    },
    "language_info": {
      "codemirror_mode": {
        "name": "ipython",
        "version": 3
      },
      "file_extension": ".py",
      "mimetype": "text/x-python",
      "name": "python",
      "nbconvert_exporter": "python",
      "pygments_lexer": "ipython3",
      "version": "3.11.4"
    }
  },
  "nbformat": 4,
  "nbformat_minor": 0
}
