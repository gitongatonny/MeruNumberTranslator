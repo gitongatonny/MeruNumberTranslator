{
  "cells": [
    {
      "cell_type": "code",
      "execution_count": 10,
      "metadata": {
        "id": "Z47jZv28cXZ6"
      },
      "outputs": [],
      "source": [
        "import csv\n",
        "import re"
      ]
    },
    {
      "cell_type": "code",
      "execution_count": 11,
      "metadata": {
        "id": "gJcaKnqGcY1p"
      },
      "outputs": [],
      "source": [
        "# Load the dataset from CSV\n",
        "def load_dataset(filename):\n",
        "    dataset = {}\n",
        "    with open(filename, 'r') as file:\n",
        "        reader = csv.reader(file)\n",
        "        next(reader)  # Skip header row\n",
        "        for row in reader:\n",
        "            number = int(row[0])\n",
        "            meru_number = row[1]\n",
        "            grammar = row[2]\n",
        "            morphemes = re.findall(r'\\b\\w+\\b', meru_number)\n",
        "            dataset[number] = (meru_number, grammar, morphemes)\n",
        "            dataset[meru_number] = (number, grammar, morphemes)\n",
        "    return dataset\n",
        "\n",
        "dataset = load_dataset('MeruNumbers.csv')"
      ]
    },
    {
      "cell_type": "code",
      "execution_count": 12,
      "metadata": {
        "id": "6cZBcJYIcf65"
      },
      "outputs": [],
      "source": [
        "# Convert a MeruNumber to a digit\n",
        "def convert_to_digit_recursive(input_number, dataset, cache=None):\n",
        "    if cache is None:\n",
        "        cache = {}\n",
        "\n",
        "    if input_number in cache:\n",
        "        return cache[input_number]\n",
        "\n",
        "    if input_number in dataset:\n",
        "        # Number is in the dataset\n",
        "        result = dataset[input_number][0]\n",
        "    elif input_number in dataset.values():\n",
        "        for number, (meru_number, grammar, morphemes) in dataset.items():\n",
        "            if input_number == meru_number:\n",
        "                result = number\n",
        "                break\n",
        "        else:\n",
        "            result = None\n",
        "    elif 'na' in input_number:\n",
        "        parts = input_number.split('na')\n",
        "        if len(parts) == 2:\n",
        "            hundreds = convert_to_digit_recursive(parts[0].strip(), dataset, cache)\n",
        "            tens = convert_to_digit_recursive(parts[1].strip(), dataset, cache)\n",
        "            corresponding_number = hundreds + tens\n",
        "            result = corresponding_number\n",
        "        else:\n",
        "            result = None\n",
        "    else:\n",
        "        parts = input_number.split()\n",
        "        number = 0\n",
        "        for part in parts:\n",
        "            part = part.strip()\n",
        "            if part in dataset:\n",
        "                part_number = convert_to_digit_recursive(part, dataset, cache)\n",
        "                number += part_number\n",
        "        result = number\n",
        "\n",
        "    cache[input_number] = result\n",
        "    return result"
      ]
    },
    {
      "cell_type": "code",
      "execution_count": 13,
      "metadata": {
        "id": "EX-vBtEuclNG"
      },
      "outputs": [],
      "source": [
        "def convert_to_digit(input_number, dataset):\n",
        "    return convert_to_digit_recursive(input_number, dataset)"
      ]
    },
    {
      "cell_type": "code",
      "execution_count": 14,
      "metadata": {
        "id": "HuRMG6WycoZG"
      },
      "outputs": [],
      "source": [
        "def convert_to_meru_number_recursive(input_number, dataset, cache=None):\n",
        "    if cache is None:\n",
        "        cache = {}\n",
        "\n",
        "    if input_number in cache:\n",
        "        return cache[input_number]\n",
        "\n",
        "    if input_number in dataset:\n",
        "        # Number is in the dataset\n",
        "        result = dataset[input_number]\n",
        "    elif input_number >= 100:\n",
        "        hundreds = input_number // 100\n",
        "        remainder = input_number % 100\n",
        "        if remainder == 0:\n",
        "            meru_number = f\"{dataset[hundreds][0]} {dataset[100][0]}\"\n",
        "            grammar = f\"{dataset[hundreds][1]} {dataset[100][1]}\"\n",
        "            morphemes = dataset[hundreds][2] + dataset[100][2]\n",
        "        elif remainder < 10:\n",
        "            meru_number = f\"{dataset[hundreds][0]} na {dataset[remainder][0]} {dataset[100][0]}\"\n",
        "            grammar = f\"{dataset[hundreds][1]} na {dataset[remainder][1]} {dataset[100][1]}\"\n",
        "            morphemes = dataset[hundreds][2] + ['na'] + dataset[remainder][2] + dataset[100][2]\n",
        "        else:\n",
        "            meru_number = f\"{dataset[100][0]} {convert_to_meru_number_recursive(hundreds, dataset, cache)[0]} na {convert_to_meru_number_recursive(remainder, dataset, cache)[0]}\"\n",
        "            grammar = f\"{dataset[100][1]} {convert_to_meru_number_recursive(hundreds, dataset, cache)[1]} na {convert_to_meru_number_recursive(remainder, dataset, cache)[1]}\"\n",
        "            morphemes = dataset[100][2] + convert_to_meru_number_recursive(hundreds, dataset, cache)[2] + ['na'] + convert_to_meru_number_recursive(remainder, dataset, cache)[2]\n",
        "        result = meru_number, grammar, morphemes\n",
        "    else:\n",
        "        tens = input_number // 10\n",
        "        ones = input_number % 10\n",
        "        meru_number = f\"{dataset[ones][0]} {dataset[tens*10][0]}\"\n",
        "        grammar = f\"{dataset[ones][1]} {dataset[tens*10][1]}\"\n",
        "        morphemes = dataset[ones][2] + dataset[tens*10][2]\n",
        "        result = meru_number, grammar, morphemes\n",
        "\n",
        "    cache[input_number] = result\n",
        "    return result"
      ]
    },
    {
      "cell_type": "code",
      "execution_count": 15,
      "metadata": {
        "id": "f_aXA7qmcvCq"
      },
      "outputs": [],
      "source": [
        "def convert_to_meru_number(input_number, dataset):\n",
        "    return convert_to_meru_number_recursive(input_number, dataset)"
      ]
    },
    {
      "cell_type": "code",
      "execution_count": 16,
      "metadata": {
        "id": "dSus0hr7cydt"
      },
      "outputs": [
        {
          "name": "stdout",
          "output_type": "stream",
          "text": [
            "\n",
            "Welcome to the Meru Number Converter!🎉\n",
            "\n",
            "Choose an option:\n",
            "1. Convert a digit to its MeruNumber\n",
            "2. Convert a MeruNumber to its digit\n",
            "3. Quit\n"
          ]
        },
        {
          "name": "stdout",
          "output_type": "stream",
          "text": [
            "\n",
            "The MeruNumber for 1 is: i m w e\n",
            "Grammar: i-mwe\n",
            "Morphemes: imwe\n",
            "\n",
            "Choose an option:\n",
            "1. Convert a digit to its MeruNumber\n",
            "2. Convert a MeruNumber to its digit\n",
            "3. Quit\n",
            "\n",
            "The MeruNumber for 975 is: i g a n a   k e n d a   n a   m i r o n g o   m u g w a n j a   n a   i t h a n o\n",
            "Grammar: i-gana ke-nda mi-ro-ngo mu-gwa-nja i-thano\n",
            "Morphemes: igana, kenda, mirongo, mugwanja, ithano\n",
            "\n",
            "Choose an option:\n",
            "1. Convert a digit to its MeruNumber\n",
            "2. Convert a MeruNumber to its digit\n",
            "3. Quit\n",
            "\n",
            "The MeruNumber for 1000 is: n g i r i\n",
            "Grammar: ngi-ri\n",
            "Morphemes: ngiri\n",
            "\n",
            "Choose an option:\n",
            "1. Convert a digit to its MeruNumber\n",
            "2. Convert a MeruNumber to its digit\n",
            "3. Quit\n",
            "\n",
            "The MeruNumber for 56 is: m i r o n g o   i t h a n o   n a   i t h a n t h a t u\n",
            "Grammar: mi-ro-ngo i-thano i-than-thatu\n",
            "Morphemes: mirongo, ithano, ithanthatu\n",
            "\n",
            "Choose an option:\n",
            "1. Convert a digit to its MeruNumber\n",
            "2. Convert a MeruNumber to its digit\n",
            "3. Quit\n",
            "\n",
            "The MeruNumber for 150 is: i g a n a   i m w e   n a   m i r o n g o   i t h a n o\n",
            "Grammar: i-gana i-mwe mi-ro-ngo i-thano\n",
            "Morphemes: igana, imwe, mirongo, ithano\n",
            "\n",
            "Choose an option:\n",
            "1. Convert a digit to its MeruNumber\n",
            "2. Convert a MeruNumber to its digit\n",
            "3. Quit\n",
            "\n",
            "The MeruNumber for 405 is: i n y a   n a   i t h a n o   i g a n a\n",
            "Grammar: i-nya i-thano i-gana\n",
            "Morphemes: inya, ithano, igana\n",
            "\n",
            "Choose an option:\n",
            "1. Convert a digit to its MeruNumber\n",
            "2. Convert a MeruNumber to its digit\n",
            "3. Quit\n",
            "\n",
            "The MeruNumber for 391 is: i g a n a   i t h a t u   n a   m i r o n g o   k e n d a   n a   i m w e\n",
            "Grammar: i-gana i-thatu mi-ro-ngo ke-nda i-mwe\n",
            "Morphemes: igana, ithatu, mirongo, kenda, imwe\n",
            "\n",
            "Choose an option:\n",
            "1. Convert a digit to its MeruNumber\n",
            "2. Convert a MeruNumber to its digit\n",
            "3. Quit\n",
            "\n",
            "Thank you for using Meru Number Translator!💯\n",
            "Exiting...\n"
          ]
        }
      ],
      "source": [
        "print()\n",
        "print(\"Welcome to the Meru Number Converter!🎉\")\n",
        "print()\n",
        "\n",
        "def run_program():\n",
        "    print(\"Choose an option:\")\n",
        "    print(\"1. Convert a digit to its MeruNumber\")\n",
        "    print(\"2. Convert a MeruNumber to its digit\")\n",
        "    print(\"3. Quit\")\n",
        "\n",
        "    choice = input(\"Enter your choice: \")\n",
        "    print()\n",
        "\n",
        "    if choice == '1':\n",
        "        input_number = int(input(\"Enter a number: \"))\n",
        "        meru_number, grammar, morphemes = convert_to_meru_number(input_number, dataset)\n",
        "        meru_number_phrase = ' '.join([str(item) for item in meru_number if not isinstance(item, tuple) and item != 'na'])\n",
        "        grammar_phrase = ' '.join([str(item) for item in grammar.split(' ') if item != 'na'])\n",
        "        morphemes_list = [m for m in morphemes if m != 'na']\n",
        "        print(f\"The MeruNumber for {input_number} is: {meru_number_phrase}\")\n",
        "        print(f\"Grammar: {grammar_phrase}\")\n",
        "        print(f\"Morphemes: {', '.join(morphemes_list)}\")\n",
        "        print()\n",
        "        run_program()\n",
        "\n",
        "    elif choice == '2':\n",
        "        input_meru_number = input(\"Enter a MeruNumber: \")\n",
        "        number = convert_to_digit(input_meru_number, dataset)\n",
        "        print(f\"The Digit Equivalent for {input_meru_number} is: {number}\")\n",
        "        print()\n",
        "        run_program()\n",
        "\n",
        "    elif choice == '3':\n",
        "        print(\"Thank you for using Meru Number Translator!💯\")\n",
        "        print(\"Exiting...\")\n",
        "\n",
        "    else:\n",
        "        print(\"Invalid choice. Please try again.\")\n",
        "        print()\n",
        "        run_program()\n",
        "\n",
        "# Run the program\n",
        "run_program()"
      ]
    },
    {
      "cell_type": "code",
      "execution_count": null,
      "metadata": {
        "id": "EaAY9IVxc6nw"
      },
      "outputs": [],
      "source": []
    }
  ],
  "metadata": {
    "colab": {
      "provenance": []
    },
    "kernelspec": {
      "display_name": "Python 3",
      "name": "python3"
    },
    "language_info": {
      "codemirror_mode": {
        "name": "ipython",
        "version": 3
      },
      "file_extension": ".py",
      "mimetype": "text/x-python",
      "name": "python",
      "nbconvert_exporter": "python",
      "pygments_lexer": "ipython3",
      "version": "3.11.4"
    }
  },
  "nbformat": 4,
  "nbformat_minor": 0
}
