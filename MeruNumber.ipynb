{
  "nbformat": 4,
  "nbformat_minor": 0,
  "metadata": {
    "colab": {
      "provenance": []
    },
    "kernelspec": {
      "name": "python3",
      "display_name": "Python 3"
    },
    "language_info": {
      "name": "python"
    }
  },
  "cells": [
    {
      "cell_type": "code",
      "execution_count": 1,
      "metadata": {
        "id": "u_OAeKDFYohh"
      },
      "outputs": [],
      "source": [
        "import csv\n",
        "import re\n"
      ]
    },
    {
      "cell_type": "code",
      "source": [
        "def load_dataset(filename):\n",
        "    dataset = {}\n",
        "    with open(filename, 'r') as file:\n",
        "        reader = csv.reader(file)\n",
        "        next(reader)  # Skip header row\n",
        "        for row in reader:\n",
        "            number = int(row[0])\n",
        "            meru_number = row[1]\n",
        "            grammar = row[2]\n",
        "            dataset[number] = (meru_number, grammar)\n",
        "    return dataset\n",
        "\n",
        "# Load the dataset from CSV\n",
        "dataset = load_dataset('MeruNumbers.csv')\n"
      ],
      "metadata": {
        "id": "ixdaOjlMZhLE"
      },
      "execution_count": 2,
      "outputs": []
    },
    {
      "cell_type": "code",
      "source": [
        "def analyze_meru_number(input_number, dataset):\n",
        "    if input_number in dataset:\n",
        "        # Number is in the dataset\n",
        "        return dataset[input_number]\n",
        "\n",
        "    if 100 <= input_number < 200:\n",
        "        tens = (input_number % 100) // 10\n",
        "        ones = input_number % 10\n",
        "        if tens == 0:\n",
        "            meru_number = f\"{dataset[100][0]} {dataset[ones][0]}\"\n",
        "            grammar = f\"{dataset[100][1]} {dataset[ones][1]}\"\n",
        "        else:\n",
        "            meru_number = f\"{dataset[100][0]} {dataset[tens * 10][0]} na {dataset[ones][0]}\"\n",
        "            grammar = f\"{dataset[100][1]} {dataset[tens * 10][1]} na {dataset[ones][1]}\"\n",
        "        return meru_number, grammar\n",
        "\n",
        "    if input_number < 100:\n",
        "        # Numbers from 1 to 99\n",
        "        tens = input_number // 10\n",
        "        ones = input_number % 10\n",
        "        meru_number = f\"{dataset[tens * 10][0]} {dataset[ones][0]}\"\n",
        "        grammar = f\"{dataset[tens * 10][1]} {dataset[ones][1]}\"\n",
        "        return meru_number, grammar\n",
        "\n",
        "    if input_number >= 200:\n",
        "        hundreds = input_number // 100\n",
        "        remainder = input_number % 100\n",
        "        if remainder == 0:\n",
        "            meru_number = f\"{dataset[hundreds][0]} {dataset[100][0]}\"\n",
        "            grammar = f\"{dataset[hundreds][1]} {dataset[100][1]}\"\n",
        "        else:\n",
        "            tens = remainder // 10\n",
        "            ones = remainder % 10\n",
        "            if tens == 0:\n",
        "                meru_number = f\"{dataset[hundreds][0]} {dataset[100][0]} {dataset[ones][0]}\"\n",
        "                grammar = f\"{dataset[hundreds][1]} {dataset[100][1]} {dataset[ones][1]}\"\n",
        "            else:\n",
        "                meru_number = f\"{dataset[hundreds][0]} {dataset[100][0]} {dataset[tens * 10][0]} na {dataset[ones][0]}\"\n",
        "                grammar = f\"{dataset[hundreds][1]} {dataset[100][1]} {dataset[tens * 10][1]} na {dataset[ones][1]}\"\n",
        "        return meru_number, grammar"
      ],
      "metadata": {
        "id": "TzQ13ncnYyR1"
      },
      "execution_count": 3,
      "outputs": []
    },
    {
      "cell_type": "code",
      "source": [
        "def run_meru_number_analyzer():\n",
        "    # Get user input\n",
        "    input_number = int(input(\"Enter a number: \"))\n",
        "\n",
        "    # Analyze the Meru number\n",
        "    meru_number, grammar = analyze_meru_number(input_number, dataset)\n",
        "    print(f\"The Meru number for {input_number} is: {meru_number} ({grammar})\")"
      ],
      "metadata": {
        "id": "JHxfwhlIY2Ak"
      },
      "execution_count": 4,
      "outputs": []
    },
    {
      "cell_type": "code",
      "source": [
        "run_meru_number_analyzer()"
      ],
      "metadata": {
        "colab": {
          "base_uri": "https://localhost:8080/"
        },
        "id": "idrH8KXgY5gh",
        "outputId": "7e488d8a-21d3-4403-bf5e-263b00264d63"
      },
      "execution_count": 5,
      "outputs": [
        {
          "output_type": "stream",
          "name": "stdout",
          "text": [
            "Enter a number: 112\n",
            "The Meru number for 112 is: igana  ikumi na  ijiri (i-gana  i-kumi na  i-jiri)\n"
          ]
        }
      ]
    },
    {
      "cell_type": "code",
      "source": [
        "run_meru_number_analyzer()"
      ],
      "metadata": {
        "colab": {
          "base_uri": "https://localhost:8080/"
        },
        "id": "bUJU4l_dY-c6",
        "outputId": "e60f0f7d-a4dc-4f03-970a-0a3c512152a8"
      },
      "execution_count": 6,
      "outputs": [
        {
          "output_type": "stream",
          "name": "stdout",
          "text": [
            "Enter a number: 365\n",
            "The Meru number for 365 is:  ithatu igana mirongo itantatu na  ithano ( i-thatu i-gana mi-rongo-i-tan-tatu na  i-thano)\n"
          ]
        }
      ]
    },
    {
      "cell_type": "code",
      "source": [
        "run_meru_number_analyzer()"
      ],
      "metadata": {
        "colab": {
          "base_uri": "https://localhost:8080/"
        },
        "id": "xHZgZUDtZzv0",
        "outputId": "a2a4e295-41d4-430e-cfbc-ae79370d73e5"
      },
      "execution_count": 7,
      "outputs": [
        {
          "output_type": "stream",
          "name": "stdout",
          "text": [
            "Enter a number: 987\n",
            "The Meru number for 987 is:  kenda igana mirongo inana na  mugwanja ( ke-nda i-gana mi-rongo i-nana na  mu-gwanja)\n"
          ]
        }
      ]
    },
    {
      "cell_type": "code",
      "source": [],
      "metadata": {
        "id": "_PMTABVgZ7Qn"
      },
      "execution_count": 7,
      "outputs": []
    }
  ]
}