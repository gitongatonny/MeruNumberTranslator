{
  "cells": [
    {
      "cell_type": "code",
      "execution_count": 25,
      "metadata": {
        "id": "7JMZkpZBdsDn"
      },
      "outputs": [],
      "source": [
        "import csv\n",
        "import re\n"
      ]
    },
    {
      "cell_type": "code",
      "execution_count": 26,
      "metadata": {
        "id": "NGTuFoEHdwRM"
      },
      "outputs": [],
      "source": [
        "def load_dataset(filename):\n",
        "    dataset = {}\n",
        "    with open(filename, 'r') as file:\n",
        "        reader = csv.reader(file)\n",
        "        next(reader)  # Skip header row\n",
        "        for row in reader:\n",
        "            number = int(row[0])\n",
        "            meru_number = row[1]\n",
        "            grammar = row[2]\n",
        "            morphemes = re.findall(r'\\b\\w+\\b', meru_number)\n",
        "            dataset[number] = (meru_number, grammar, morphemes)\n",
        "    return dataset"
      ]
    },
    {
      "cell_type": "code",
      "execution_count": 27,
      "metadata": {
        "id": "Y6qynd-qd1Tp"
      },
      "outputs": [],
      "source": [
        "# Load the dataset from CSV\n",
        "dataset = load_dataset('MeruNumbers.csv')"
      ]
    },
    {
      "cell_type": "code",
      "execution_count": 28,
      "metadata": {
        "id": "4Us7nXq4d7dA"
      },
      "outputs": [],
      "source": [
        "def analyze_meru_number(input_number, dataset):\n",
        "    if input_number in dataset:\n",
        "        # Number is in the dataset\n",
        "        return dataset[input_number]\n",
        "\n",
        "    if 100 <= input_number < 200:\n",
        "        tens = (input_number % 100) // 10\n",
        "        ones = input_number % 10\n",
        "        if tens == 0:\n",
        "            meru_number = f\"{dataset[100][0]} {dataset[ones][0]}\"\n",
        "            grammar = f\"{dataset[100][1]} {dataset[ones][1]}\"\n",
        "        else:\n",
        "            meru_number = f\"{dataset[100][0]} {dataset[tens * 10][0]} na {dataset[ones][0]}\"\n",
        "            grammar = f\"{dataset[100][1]} {dataset[tens * 10][1]} na {dataset[ones][1]}\"\n",
        "        return meru_number, grammar, dataset[100][2] + dataset[ones][2]\n",
        "\n",
        "    if input_number < 100:\n",
        "        # Numbers from 1 to 99\n",
        "        tens = input_number // 10\n",
        "        ones = input_number % 10\n",
        "        meru_number = f\"{dataset[tens * 10][0]} {dataset[ones][0]}\"\n",
        "        grammar = f\"{dataset[tens * 10][1]} {dataset[ones][1]}\"\n",
        "        return meru_number, grammar, dataset[tens * 10][2] + dataset[ones][2]\n",
        "\n",
        "    if input_number >= 200:\n",
        "        hundreds = input_number // 100\n",
        "        remainder = input_number % 100\n",
        "        if remainder == 0:\n",
        "            meru_number = f\"{dataset[hundreds][0]} {dataset[100][0]}\"\n",
        "            grammar = f\"{dataset[hundreds][1]} {dataset[100][1]}\"\n",
        "        else:\n",
        "            tens = remainder // 10\n",
        "            ones = remainder % 10\n",
        "            if tens == 0:\n",
        "                meru_number = f\"{dataset[hundreds][0]} {dataset[100][0]} {dataset[ones][0]}\"\n",
        "                grammar = f\"{dataset[hundreds][1]} {dataset[100][1]} {dataset[ones][1]}\"\n",
        "            else:\n",
        "                meru_number = f\"{dataset[hundreds][0]} {dataset[100][0]} {dataset[tens * 10][0]} na {dataset[ones][0]}\"\n",
        "                grammar = f\"{dataset[hundreds][1]} {dataset[100][1]} {dataset[tens * 10][1]} na {dataset[ones][1]}\"\n",
        "        return meru_number, grammar, dataset[hundreds][2] + dataset[100][2] + dataset[tens * 10][2] + dataset[ones][2]"
      ]
    },
    {
      "cell_type": "code",
      "execution_count": 29,
      "metadata": {
        "colab": {
          "base_uri": "https://localhost:8080/"
        },
        "id": "k7eN_s1WeACN",
        "outputId": "aef96561-18b9-4920-8c6d-503ade7e947e"
      },
      "outputs": [
        {
          "name": "stdout",
          "output_type": "stream",
          "text": [
            "The Meru number for 999 is:  kenda igana mirongo kenda na  kenda ( ke-nda i-gana mi-rongo ke-nda na  ke-nda)\n",
            "Morphemes: kenda, igana, mirongo, kenda, kenda\n"
          ]
        }
      ],
      "source": [
        "def run_meru_number_analyzer():\n",
        "    # Get user input\n",
        "    input_number = int(input(\"Enter a number: \"))\n",
        "\n",
        "    # Analyze the Meru number\n",
        "    meru_number, grammar, morphemes = analyze_meru_number(input_number, dataset)\n",
        "    print(f\"The Meru number for {input_number} is: {meru_number} ({grammar})\")\n",
        "    print(f\"Morphemes: {', '.join(morphemes)}\")\n",
        "\n",
        "run_meru_number_analyzer()"
      ]
    }
  ],
  "metadata": {
    "colab": {
      "provenance": []
    },
    "kernelspec": {
      "display_name": "Python 3",
      "name": "python3"
    },
    "language_info": {
      "codemirror_mode": {
        "name": "ipython",
        "version": 3
      },
      "file_extension": ".py",
      "mimetype": "text/x-python",
      "name": "python",
      "nbconvert_exporter": "python",
      "pygments_lexer": "ipython3",
      "version": "3.11.4"
    }
  },
  "nbformat": 4,
  "nbformat_minor": 0
}
